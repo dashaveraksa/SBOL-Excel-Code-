{
 "cells": [
  {
   "cell_type": "code",
   "execution_count": 1,
   "metadata": {
    "init_cell": true
   },
   "outputs": [
    {
     "data": {
      "text/html": [
       "<script>\n",
       "  function code_toggle() {\n",
       "    if (code_shown){\n",
       "      $('div.input').hide('500');\n",
       "      $('#toggleButton').val('Show Code')\n",
       "    } else {\n",
       "      $('div.input').show('500');\n",
       "      $('#toggleButton').val('Hide Code')\n",
       "    }\n",
       "    code_shown = !code_shown\n",
       "  }\n",
       "\n",
       "  $( document ).ready(function(){\n",
       "    code_shown=false;\n",
       "    $('div.input').hide()\n",
       "  });\n",
       "</script>\n",
       "<form action=\"javascript:code_toggle()\"><input type=\"submit\" id=\"toggleButton\" value=\"Show Code\"></form>"
      ],
      "text/plain": [
       "<IPython.core.display.HTML object>"
      ]
     },
     "execution_count": 1,
     "metadata": {},
     "output_type": "execute_result"
    }
   ],
   "source": [
    "from IPython.display import HTML\n",
    "HTML('''<script>\n",
    "  function code_toggle() {\n",
    "    if (code_shown){\n",
    "      $('div.input').hide('500');\n",
    "      $('#toggleButton').val('Show Code')\n",
    "    } else {\n",
    "      $('div.input').show('500');\n",
    "      $('#toggleButton').val('Hide Code')\n",
    "    }\n",
    "    code_shown = !code_shown\n",
    "  }\n",
    "\n",
    "  $( document ).ready(function(){\n",
    "    code_shown=false;\n",
    "    $('div.input').hide()\n",
    "  });\n",
    "</script>\n",
    "<form action=\"javascript:code_toggle()\"><input type=\"submit\" id=\"toggleButton\" value=\"Show Code\"></form>''')"
   ]
  },
  {
   "cell_type": "markdown",
   "metadata": {},
   "source": [
    "# Uploading to SynBioHub\n",
    "\n",
    "Using this notebook will allow you to visualize your Excel data and store it in SynBioHub. First, make sure your Excel spreadsheet follows the template provided by the TASBE-Flow Analytics Tutorial: https://github.com/TASBE/TASBEFlowAnalytics-Tutorial/blob/master/batch_template.xlsm\n",
    "\n",
    "After downloading the accompanying python code to this notebook, make sure that it is in the same directory as your Excel file. See the README for more detailed instructions."
   ]
  },
  {
   "cell_type": "code",
   "execution_count": 2,
   "metadata": {
    "init_cell": true
   },
   "outputs": [],
   "source": [
    "from sbol import *\n",
    "import re\n",
    "import sys\n",
    "import xlrd\n",
    "from ipywidgets import widgets\n",
    "import getpass"
   ]
  },
  {
   "cell_type": "markdown",
   "metadata": {},
   "source": [
    "## Select File:\n",
    "\n",
    "Select the Excel spreadsheet you want to model."
   ]
  },
  {
   "cell_type": "code",
   "execution_count": 3,
   "metadata": {
    "code_folding": [],
    "init_cell": true
   },
   "outputs": [
    {
     "data": {
      "application/vnd.jupyter.widget-view+json": {
       "model_id": "126d8a679ad54ffc8491b19bbf39a458",
       "version_major": 2,
       "version_minor": 0
      },
      "text/plain": [
       "FileUpload(style_button='color: white; background-color: darkorange; width: 180px;')"
      ]
     },
     "metadata": {},
     "output_type": "display_data"
    }
   ],
   "source": [
    "from IPython.display import display, clear_output\n",
    "from ipyupload import FileUpload\n",
    "\n",
    "w = FileUpload(\n",
    "    accept='',\n",
    "    multiple=False,\n",
    "    disabled=False,\n",
    "    style_button='color: white; background-color: darkorange; width: 180px;', \n",
    "    compress_level=0\n",
    ")\n",
    "\n",
    "display(w)"
   ]
  },
  {
   "cell_type": "markdown",
   "metadata": {},
   "source": [
    "## Checking File Compatability:\n",
    "Press the button below to confirm upload:"
   ]
  },
  {
   "cell_type": "code",
   "execution_count": null,
   "metadata": {},
   "outputs": [],
   "source": []
  },
  {
   "cell_type": "code",
   "execution_count": 4,
   "metadata": {
    "code_folding": [],
    "init_cell": true,
    "scrolled": false
   },
   "outputs": [
    {
     "data": {
      "application/vnd.jupyter.widget-view+json": {
       "model_id": "e4867d11854a41d59f696763efed4356",
       "version_major": 2,
       "version_minor": 0
      },
      "text/plain": [
       "Button(description='Proceed', style=ButtonStyle())"
      ]
     },
     "metadata": {},
     "output_type": "display_data"
    }
   ],
   "source": [
    "##CHECK ALL POSSIBLE ERRORS AND SEE IF THEY HAVE BEEN CAUGHT\n",
    "\n",
    "from tqdm import tqdm\n",
    "import time\n",
    "import os\n",
    "\n",
    "ActionButton = widgets.Button(\n",
    "    description = 'Proceed'\n",
    ")\n",
    "out = widgets.Output()\n",
    "def on_button_clicked(_):\n",
    "    with out:\n",
    "        clear_output()\n",
    "    if w.value == {}:\n",
    "        print(\"You must upload a file first.\")\n",
    "        return\n",
    "    else:\n",
    "        with tqdm(total=1000) as pbar:\n",
    "            file_location = list(w.value)\n",
    "            file_location = file_location[0]\n",
    "            pbar.set_description(\"Converting \\\"%s\\\" to SBOL...\" % file_location)\n",
    "            pbar.update(59)\n",
    "            time.sleep(0.1)\n",
    "            name,extension = os.path.splitext(file_location)\n",
    "            counter = 0\n",
    "            for i in ['.xlsm','.xlsx','.xltx','.xltm','.xls','.xlm','.xlt']:\n",
    "                if extension == i:\n",
    "                    counter = 1\n",
    "                    break\n",
    "            if counter != 1:\n",
    "                print('Error: \"%s\" file format is not supported.' % extension)\n",
    "            else:    \n",
    "                %run -i 'SBOLconverter.py'\n",
    "                pbar.update(59)\n",
    "                time.sleep(0.1)\n",
    "\n",
    "                global doc\n",
    "                pbar.update(59)\n",
    "                time.sleep(0.1)         \n",
    "                doc = Document()\n",
    "                pbar.update(59)\n",
    "                time.sleep(0.1)\n",
    "                setHomespace('http://bu.edu/dasha')       \n",
    "                pbar.update(59)\n",
    "                time.sleep(0.1)    \n",
    "                Config.setOption('sbol_typed_uris',False)\n",
    "                pbar.update(59)\n",
    "                time.sleep(0.1)\n",
    "                Config.setOption('sbol_compliant_uris',True)\n",
    "                pbar.update(59)\n",
    "                time.sleep(0.1)\n",
    "\n",
    "                wb = MakeBook(file_location)\n",
    "                pbar.update(59)\n",
    "                time.sleep(0.1)\n",
    "                (ExpName, ExpSheet) = ExcelImport(wb)\n",
    "                if (ExpName == -1 and ExpSheet == -1):\n",
    "                    return\n",
    "                pbar.update(59)\n",
    "                time.sleep(0.1)\n",
    "                Unit = UnitCollectionFunc(ExpSheet)\n",
    "                if Unit == -1:\n",
    "                    return\n",
    "                pbar.update(59)\n",
    "                time.sleep(0.1)\n",
    "                (ModList,PlasmidList_orig) = PlasModList(ExpSheet)\n",
    "                if (ModList == -1 and PlasmidList_orig == -1):\n",
    "                    return\n",
    "                pbar.update(59)\n",
    "                time.sleep(0.1)\n",
    "                PlasmidList_norepeat = PlasNoRepeat(PlasmidList_orig)\n",
    "                pbar.update(59)\n",
    "                time.sleep(0.1)\n",
    "                NewModList = ModListCleaner(ModList,ExpName)\n",
    "                pbar.update(59)\n",
    "                time.sleep(0.1)\n",
    "                ModDefDict = ModMaker(ExpSheet,ModList,NewModList)\n",
    "                if ModDefDict == -1:\n",
    "                    return\n",
    "                pbar.update(59)\n",
    "                time.sleep(0.1)\n",
    "                diditwork = SamplesImport(ModList,NewModList,ModDefDict,wb,ExpName)\n",
    "                if diditwork == -1:\n",
    "                    return\n",
    "                pbar.update(56)\n",
    "                time.sleep(0.1)\n",
    "                CompDefDict = CompMaker(PlasmidList_norepeat)\n",
    "                pbar.update(59)\n",
    "                time.sleep(0.1)\n",
    "                diditwork = FuncMaker(NewModList,ModList,ExpSheet,CompDefDict,ModDefDict,Unit)\n",
    "                pbar.update(59)\n",
    "                time.sleep(0.1)\n",
    "\n",
    "                print('Success!')\n",
    "\n",
    "#ActionButton.style.button_color = 'darkorange'\n",
    "ActionButton.on_click(on_button_clicked) \n",
    "ActionButton\n"
   ]
  },
  {
   "cell_type": "code",
   "execution_count": null,
   "metadata": {},
   "outputs": [],
   "source": []
  },
  {
   "cell_type": "markdown",
   "metadata": {},
   "source": [
    "## Enter Project Details:\n",
    "Enter the **displayID** (REQUIRED, alphanumeric and underscore characters only, cannot begin with a digit), **project name** (optional, if you want to elaborate on the displayID), **project description**, and **version** (REQUIRED for the collection URI) of the Project you want to upload to. If it already exists, entering only the displayID and version is sufficient."
   ]
  },
  {
   "cell_type": "code",
   "execution_count": null,
   "metadata": {},
   "outputs": [],
   "source": []
  },
  {
   "cell_type": "code",
   "execution_count": 5,
   "metadata": {
    "init_cell": true
   },
   "outputs": [
    {
     "data": {
      "application/vnd.jupyter.widget-view+json": {
       "model_id": "1f39c5e7614e4c839d775438b695e19e",
       "version_major": 2,
       "version_minor": 0
      },
      "text/plain": [
       "VBox(children=(Text(value='', description='displayID'), Text(value='', description='name'), Textarea(value='',…"
      ]
     },
     "metadata": {},
     "output_type": "display_data"
    }
   ],
   "source": [
    "displaywidget = widgets.Text(\n",
    "    value='',\n",
    "    description = 'displayID'\n",
    ")\n",
    "namewidget = widgets.Text(\n",
    "    value='',\n",
    "    description = 'name'\n",
    ")\n",
    "descriptionwidget = widgets.Textarea(\n",
    "    value='',\n",
    "    description = 'description'\n",
    ")\n",
    "versionwidget = widgets.Text(\n",
    "    description = 'version',\n",
    "    placeholder = 'for example 1.0.0 or 1'\n",
    ")\n",
    "collectionbox = widgets.VBox([displaywidget,namewidget,descriptionwidget,versionwidget])\n",
    "collectionbox\n"
   ]
  },
  {
   "cell_type": "markdown",
   "metadata": {},
   "source": [
    "## Enter Experiment Details:\n",
    "Enter the **displayID** (REQUIRED, alphanumeric and underscore characters only, cannot begin with a digit), **experiment name** (optional, if you want to elaborate on the displayID), and the **experiment description** of the new Experiment you will be uploading."
   ]
  },
  {
   "cell_type": "code",
   "execution_count": 6,
   "metadata": {
    "init_cell": true
   },
   "outputs": [
    {
     "data": {
      "application/vnd.jupyter.widget-view+json": {
       "model_id": "57a3e76c470c4e6ba390e215c8ec2aa9",
       "version_major": 2,
       "version_minor": 0
      },
      "text/plain": [
       "VBox(children=(Text(value='', description='displayID'), Text(value='', description='name'), Textarea(value='',…"
      ]
     },
     "metadata": {},
     "output_type": "display_data"
    }
   ],
   "source": [
    "subIDwidget = widgets.Text(\n",
    "    value='',\n",
    "    description = 'displayID'\n",
    ")\n",
    "subcolnamewidget = widgets.Text(\n",
    "    value='',\n",
    "    description = 'name'\n",
    ")\n",
    "subdescriptionwidget = widgets.Textarea(\n",
    "    value='',\n",
    "    description = 'description'\n",
    ")\n",
    "\n",
    "subcollectionbox = widgets.VBox([subIDwidget,subcolnamewidget,subdescriptionwidget])\n",
    "subcollectionbox\n"
   ]
  },
  {
   "cell_type": "markdown",
   "metadata": {},
   "source": [
    "## Enter Login Information:\n",
    "Enter your **username** and **password** for the SynBioHub account you want to upload your collection to."
   ]
  },
  {
   "cell_type": "code",
   "execution_count": 7,
   "metadata": {
    "init_cell": true,
    "scrolled": true
   },
   "outputs": [
    {
     "data": {
      "application/vnd.jupyter.widget-view+json": {
       "model_id": "69f0ddf916054a31a0492705b00df932",
       "version_major": 2,
       "version_minor": 0
      },
      "text/plain": [
       "VBox(children=(Text(value='', description='Username:', placeholder=''), Password(description='Password:'), But…"
      ]
     },
     "metadata": {},
     "output_type": "display_data"
    }
   ],
   "source": [
    "usernamewidget = widgets.Text(\n",
    "    value='',\n",
    "    placeholder='',\n",
    "    description='Username:',\n",
    "    disabled=False\n",
    ")\n",
    "# loginButton = widgets.Button(\n",
    "#     description = 'Login'\n",
    "# )\n",
    "uploadButton = widgets.Button(\n",
    "    description = 'Upload to SynBioHub'\n",
    ")\n",
    "#uploadButton.style.button_color = 'darkorange'\n",
    "\n",
    "passwordwidget = widgets.Password(\n",
    "    description = 'Password:'\n",
    ")\n",
    "\n",
    "yesButton = widgets.Button(\n",
    "    description = 'Yes'\n",
    ")\n",
    "\n",
    "noButton = widgets.Button(\n",
    "    description = 'No'\n",
    ")\n",
    "\n",
    "YesNoBox = widgets.HBox([yesButton, noButton])\n",
    "\n",
    "def YesButtonClicked(_):\n",
    "    formatlist = [displaywidget.value,subIDwidget.value]\n",
    "    print('Creating a new project with displayID \"{}\" containing an experiment with displayID \"{}\".'.format(*formatlist))\n",
    "    doc.displayId = displaywidget.value\n",
    "    doc.name = namewidget.value\n",
    "    doc.description = descriptionwidget.value\n",
    "    doc.version = versionwidget.value\n",
    "    NewProjUpload(usernamewidget.value,passwordwidget.value)\n",
    "    sep = '@'\n",
    "    text = usernamewidget.value \n",
    "    rest = text.split(sep, 1)[0]\n",
    "    rootcolURI = \"https://synbiohub.org/user/\" + rest + \"/\" + displaywidget.value + \"/\" + displaywidget.value + \"_collection/\" + versionwidget.value\n",
    "    print(rootcolURI)\n",
    "    return\n",
    "    \n",
    "def NoButtonClicked(_):\n",
    "    print('Upload stopped.')\n",
    "    return\n",
    "\n",
    "out = widgets.Output()\n",
    "\n",
    "def on_button_clicked(_):\n",
    "    sep = '@'\n",
    "    text = usernamewidget.value \n",
    "    rest = text.split(sep, 1)[0]\n",
    "    rootcolURI = \"https://synbiohub.org/user/\" + rest + \"/\" + displaywidget.value + \"/\" + displaywidget.value + \"_collection/\" + versionwidget.value\n",
    "    ret = UploadFunc(usernamewidget.value,passwordwidget.value,displaywidget.value,namewidget.value,descriptionwidget.value,subIDwidget.value,subcolnamewidget.value,subdescriptionwidget.value,rootcolURI)\n",
    "    if ret == 1:\n",
    "        print('No project with the displayID \"{}\" found.'.format(displaywidget.value))\n",
    "        print('Do you want to create a new project with this displayID?')\n",
    "        yesButton.on_click(YesButtonClicked)\n",
    "        noButton.on_click(NoButtonClicked)\n",
    "        display(YesNoBox)\n",
    "    elif ret == 2:\n",
    "        print(rootcolURI)\n",
    "        return\n",
    "    else:\n",
    "        return\n",
    "    \n",
    "uploadButton.on_click(on_button_clicked)\n",
    "box = widgets.VBox([usernamewidget,passwordwidget,uploadButton])\n",
    "box\n",
    "\n"
   ]
  },
  {
   "cell_type": "code",
   "execution_count": null,
   "metadata": {},
   "outputs": [],
   "source": []
  }
 ],
 "metadata": {
  "celltoolbar": "Initialization Cell",
  "kernelspec": {
   "display_name": "Python 3",
   "language": "python",
   "name": "python3"
  },
  "language_info": {
   "codemirror_mode": {
    "name": "ipython",
    "version": 3
   },
   "file_extension": ".py",
   "mimetype": "text/x-python",
   "name": "python",
   "nbconvert_exporter": "python",
   "pygments_lexer": "ipython3",
   "version": "3.7.3"
  }
 },
 "nbformat": 4,
 "nbformat_minor": 2
}
